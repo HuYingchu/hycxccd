{
 "cells": [
  {
   "cell_type": "markdown",
   "metadata": {},
   "source": [
    "# Pyxccd教程\n",
    "本教程将指导您如何使用pyxccd处理HLS影像数据，生成年度扰动图、最近扰动图和首次扰动图。整个过程分为三个主要步骤。"
   ]
  },
  {
   "cell_type": "markdown",
   "metadata": {},
   "source": [
    "## 准备工作\n",
    "### 1. 安装pyxccd：\n",
    "```\n",
    "pip install pyxccd\n",
    "```"
   ]
  },
  {
   "cell_type": "markdown",
   "metadata": {},
   "source": [
    "### 2. 准备HLS影像\n",
    "准备好下载的HLS文件，确保数据按如下结构组织：（示例提供2019-2024六年的HLS数据）  \n",
    "夸克网盘下载链接：https://pan.quark.cn/s/f6456bf1ad27?pwd=FxtU  \n",
    "提取码：FxtU\n",
    "```\n",
    "HLS根目录/\n",
    "└── 瓦片ID (如51RTP)/\n",
    "    └── HLS影像文件 (如HLS.S30.T51RTP.2021001.v2.0.B02.tif)\n",
    "```"
   ]
  },
  {
   "cell_type": "markdown",
   "metadata": {},
   "source": [
    "### 3. 配置文件\n",
    "准备配置文件config_hls.yaml，可根据需要调整config_hls.yaml中的区块大小参数（示例文件分为30×30块）：\n",
    "```yaml\n",
    "DATASETINFO:\n",
    "  n_rows: 3660\n",
    "  n_cols: 3660\n",
    "  n_block_x: 30\n",
    "  n_block_y: 30\n",
    "```"
   ]
  },
  {
   "cell_type": "markdown",
   "metadata": {},
   "source": [
    "## 第一步：影像堆叠处理\n",
    "### 功能说明\n",
    "将HLS影像按时间序列堆叠，为后续变化检测做准备。"
   ]
  },
  {
   "cell_type": "markdown",
   "metadata": {},
   "source": [
    "### 操作步骤\n",
    "1. 确认瓦片列表文件tile_list内容为要处理的瓦片ID，若有多个则每行一个（示例文件为51RTP）。"
   ]
  },
  {
   "cell_type": "markdown",
   "metadata": {},
   "source": [
    "2. 运行堆叠处理脚本step1_stack.py：\n",
    "```bash\n",
    "python step1_stack.py --tile_list_fn ./tile_list \\\n",
    "                     --meta_path /path/to/hls/data \\\n",
    "                     --yaml_path ./config_hls.yaml \\\n",
    "                     --out_path /stack \\\n",
    "                     --low_date_bound 2019-01-01 \\\n",
    "                     --upp_date_bound 2024-12-31 \\\n",
    "                     --n_cores 16\n",
    "```"
   ]
  },
  {
   "cell_type": "markdown",
   "metadata": {},
   "source": [
    "### 参数说明\n",
    "```\n",
    "--tile_list_fn: 瓦片列表文件路径\n",
    "--meta_path: HLS数据根目录\n",
    "--yaml_path: 配置文件路径\n",
    "--out_path: 堆叠结果输出目录\n",
    "--low_date_bound: 处理的时间范围下限(YYYY-MM-DD)\n",
    "--upp_date_bound: 处理的时间范围上限(YYYY-MM-DD)\n",
    "--n_cores: 使用的CPU核心数\n",
    "```"
   ]
  },
  {
   "cell_type": "markdown",
   "metadata": {},
   "source": [
    "### 输出结果\n",
    "在out_path目录（默认为stack文件夹）下会为每个瓦片生成一个{瓦片ID}_stack文件夹，包含按区块组织的堆叠数据。"
   ]
  },
  {
   "cell_type": "markdown",
   "metadata": {},
   "source": [
    "## 第二步：SCCD与COLD变化检测处理\n",
    "### SCCD算法\n",
    "#### 功能说明\n",
    "使用pyxccd的SCCD算法检测每个像素的变化。"
   ]
  },
  {
   "cell_type": "markdown",
   "metadata": {},
   "source": [
    "#### 操作步骤\n",
    "1. 确保已完成上一步的堆叠处理\n",
    "2. 运行变化检测脚本step2_sccd.py：\n",
    "```bash\n",
    "python step2_sccd.py --tile_list_fn ./tile_list \\\n",
    "                     --stack_path /stack \\\n",
    "                     --result_parent_path /sccd_results \\\n",
    "                     --yaml_path /config_hls.yaml \\\n",
    "                     --low_datebound 2019-01-01 \\\n",
    "                     --upper_datebound 2024-12-31 \\\n",
    "                     --n_cores 16\n",
    "```"
   ]
  },
  {
   "cell_type": "markdown",
   "metadata": {},
   "source": [
    "#### 参数说明\n",
    "```\n",
    "--stack_path: 上一步生成的堆叠数据目录\n",
    "--result_parent_path: SCCD结果输出目录\n",
    "其他参数与第一步相同\n",
    "```"
   ]
  },
  {
   "cell_type": "markdown",
   "metadata": {},
   "source": [
    "#### 输出结果\n",
    "在result_parent_path目录（默认为sccd_results 文件夹）下会为每个瓦片生成一个{瓦片ID}_sccd文件夹，包含:\n",
    "```\n",
    "record_change_x{区块X}_y{区块Y}_sccd.npy: 每个区块的变化检测结果\n",
    "SCCD_block{区块编号}_finished.txt: 区块处理完成标记文件\n",
    "```"
   ]
  },
  {
   "cell_type": "markdown",
   "metadata": {},
   "source": [
    "### COLD算法\n",
    "#### 功能说明\n",
    "使用pyxccd的COLD算法检测每个像素的变化。"
   ]
  },
  {
   "cell_type": "markdown",
   "metadata": {},
   "source": [
    "#### 操作步骤\n",
    "1. 确保已完成上一步的堆叠处理\n",
    "2. 运行变化检测脚本step2_cold.py：\n",
    "```bash\n",
    "python step2_cold.py --tile_list_fn ./tile_list \\\n",
    "                     --stack_path /stack \\\n",
    "                     --result_parent_path /cold_results \\\n",
    "                     --yaml_path ./config_hls.yaml \\\n",
    "                     --low_datebound 2019-01-01 \\\n",
    "                     --upper_datebound 2024-12-31 \\\n",
    "                     --n_cores 16\n",
    "```"
   ]
  },
  {
   "cell_type": "markdown",
   "metadata": {},
   "source": [
    "#### 参数说明\n",
    "```\n",
    "--stack_path: 上一步生成的堆叠数据目录\n",
    "--result_parent_path: COLD结果输出目录\n",
    "其他参数与第一步相同\n",
    "```"
   ]
  },
  {
   "cell_type": "markdown",
   "metadata": {},
   "source": [
    "#### 输出结果\n",
    "在result_parent_path目录（默认为cold_results 文件夹）下会为每个瓦片生成一个{瓦片ID}_cold文件夹，包含:\n",
    "```\n",
    "record_change_x{区块X}_y{区块Y}_cold.npy: 每个区块的变化检测结果\n",
    "COLD_block{区块编号}_finished.txt: 区块处理完成标记文件\n",
    "```"
   ]
  },
  {
   "cell_type": "markdown",
   "metadata": {},
   "source": [
    "## 第三步：生成扰动图\n",
    "### 功能说明\n",
    "将变化检测结果转换为年度扰动图、最近扰动图和首次扰动图。"
   ]
  },
  {
   "cell_type": "markdown",
   "metadata": {},
   "source": [
    "### 操作步骤\n",
    "1. 确保已完成前两步处理\n",
    "2. 运行扰动制作脚本step3_disturbance_map.py：\n",
    "```bash\n",
    "python step3_disturbance_map.py --source_dir /hls \\\n",
    "                               --result_path /sccd_results/51RTP_sccd \\\n",
    "                               --out_path /disturbance_maps \\\n",
    "                               --yaml_path /config_hls.yaml \\\n",
    "                               --year_lowbound 2019 \\\n",
    "                               --year_uppbound 2024 \\\n",
    "                               --n_cores 16\n",
    "```"
   ]
  },
  {
   "cell_type": "markdown",
   "metadata": {},
   "source": [
    "### 参数说明\n",
    "```\n",
    "--source_dir: HLS数据根目录(用于获取空间参考)\n",
    "--result_path: 第二步生成的SCCD结果目录(具体到瓦片)\n",
    "--out_path: 扰动图输出目录\n",
    "--year_lowbound: 起始年份\n",
    "--year_uppbound: 结束年份\n",
    "--n_cores: 使用的CPU核心数\n",
    "```"
   ]
  },
  {
   "cell_type": "markdown",
   "metadata": {},
   "source": [
    "### 输出结果\n",
    "在out_path目录（默认为disturbance_maps文件夹）下会生成以下文件:\n",
    "```\n",
    "{年份}_break_map_SCCDOFFLINE.tif: 年度扰动图\n",
    "recent_disturbance_map_SCCDOFFLINE.tif: 最近扰动图(显示最近发生扰动的年份)\n",
    "first_disturbance_map_SCCDOFFLINE.tif: 首次扰动图(显示首次发生扰动的年份)\n",
    "```"
   ]
  },
  {
   "cell_type": "markdown",
   "metadata": {},
   "source": [
    "### 结果解读\n",
    "#### 年度扰动图\n",
    "像元值 = 扰动类型×1000 + 年积日  \n",
    "扰动类型1表示植被扰动  \n",
    "扰动类型2表示非植被扰动"
   ]
  },
  {
   "cell_type": "markdown",
   "metadata": {},
   "source": [
    "#### 最近扰动图\n",
    "显示每个像素最近发生扰动的年份  \n",
    "无扰动区域值为0\n"
   ]
  },
  {
   "cell_type": "markdown",
   "metadata": {},
   "source": [
    "#### 首次扰动图\n",
    "显示每个像素首次发生扰动的年份  \n",
    "无扰动区域值为0"
   ]
  },
  {
   "cell_type": "markdown",
   "metadata": {},
   "source": [
    "## 注意事项\n",
    "1. 处理大型区域时，建议分批次处理瓦片，避免内存不足。\n",
    "2. 可根据需要调整config_hls.yaml中的区块大小参数，平衡处理速度和内存使用。\n",
    "3. 如果处理中断，可以重新运行脚本，程序会自动跳过已完成的区块。\n"
   ]
  },
  {
   "cell_type": "markdown",
   "metadata": {},
   "source": [
    "## 示例效果\n",
    "2019-2024首次扰动图（sccd）\n",
    "\n",
    "![First Disturbance Map](first_disturb1.png)"
   ]
  }
 ],
 "metadata": {
  "kernelspec": {
   "display_name": "Python 3",
   "language": "python",
   "name": "python3"
  },
  "language_info": {
   "codemirror_mode": {
    "name": "ipython",
    "version": 3
   },
   "file_extension": ".py",
   "mimetype": "text/x-python",
   "name": "python",
   "nbconvert_exporter": "python",
   "pygments_lexer": "ipython3",
   "version": "3.8.5"
  }
 },
 "nbformat": 4,
 "nbformat_minor": 4
}
